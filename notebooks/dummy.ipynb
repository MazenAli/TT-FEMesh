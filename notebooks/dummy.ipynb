{
 "cells": [
  {
   "cell_type": "code",
   "id": "initial_id",
   "metadata": {
    "collapsed": true,
    "ExecuteTime": {
     "end_time": "2024-11-26T23:44:07.216543Z",
     "start_time": "2024-11-26T23:44:06.845867Z"
    }
   },
   "source": [
    "import torch as tn\n",
    "import torchtt as tntt\n",
    "\n",
    "N = [10, 10, 10, 10]\n",
    "o = tntt.ones(N)\n",
    "x = tntt.randn(N, [1, 4, 4, 4, 1])\n",
    "y = tntt.TT(tn.reshape(tn.arange(N[0] * N[1] * N[2] * N[3], dtype=tn.float64), N))\n",
    "A = tntt.randn([(n, n) for n in N], [1, 2, 3, 4, 1])\n",
    "B = tntt.randn([(n, n) for n in N], [1, 2, 3, 4, 1])\n",
    "\n",
    "print(A)"
   ],
   "outputs": [
    {
     "name": "stdout",
     "output_type": "stream",
     "text": [
      "TT-matrix with sizes and ranks:\n",
      "M = [10, 10, 10, 10]\n",
      "N = [10, 10, 10, 10]\n",
      "R = [1, 2, 3, 4, 1]\n",
      "Device: cpu, dtype: torch.float64\n",
      "#entries 2400 compression 2.4e-05\n",
      "\n"
     ]
    },
    {
     "name": "stderr",
     "output_type": "stream",
     "text": [
      "/usr/local/lib/python3.10/site-packages/torchtt/_dmrg.py:19: UserWarning: \u001B[33m\n",
      "C++ implementation not available. Using pure Python.\n",
      "\u001B[0m\n",
      "  warnings.warn(\"\\x1B[33m\\nC++ implementation not available. Using pure Python.\\n\\033[0m\")\n",
      "/usr/local/lib/python3.10/site-packages/torchtt/_amen.py:21: UserWarning: \u001B[33m\n",
      "C++ implementation not available. Using pure Python.\n",
      "\u001B[0m\n",
      "  warnings.warn(\n",
      "/usr/local/lib/python3.10/site-packages/torchtt/solvers.py:21: UserWarning: \u001B[33m\n",
      "C++ implementation not available. Using pure Python.\n",
      "\u001B[0m\n",
      "  warnings.warn(\n",
      "/usr/local/lib/python3.10/site-packages/torchtt/cpp.py:12: UserWarning: \u001B[33m\n",
      "C++ implementation not available. Using pure Python.\n",
      "\u001B[0m\n",
      "  warnings.warn(\"\\x1B[33m\\nC++ implementation not available. Using pure Python.\\n\\033[0m\")\n",
      "/usr/local/lib/python3.10/site-packages/torchtt/__init__.py:34: UserWarning: \u001B[33m\n",
      "C++ implementation not available. Using pure Python.\n",
      "\u001B[0m\n",
      "  warnings.warn(\n"
     ]
    }
   ],
   "execution_count": 1
  }
 ],
 "metadata": {
  "kernelspec": {
   "display_name": "Python 3",
   "language": "python",
   "name": "python3"
  },
  "language_info": {
   "codemirror_mode": {
    "name": "ipython",
    "version": 2
   },
   "file_extension": ".py",
   "mimetype": "text/x-python",
   "name": "python",
   "nbconvert_exporter": "python",
   "pygments_lexer": "ipython2",
   "version": "2.7.6"
  }
 },
 "nbformat": 4,
 "nbformat_minor": 5
}
