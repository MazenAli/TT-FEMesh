{
 "cells": [
  {
   "cell_type": "code",
   "id": "initial_id",
   "metadata": {
    "collapsed": true,
    "ExecuteTime": {
     "end_time": "2024-11-26T14:57:46.292344Z",
     "start_time": "2024-11-26T14:57:46.276196Z"
    }
   },
   "source": [
    "import torch as tn\n",
    "import torchtt as tntt\n",
    "\n",
    "N = [10, 10, 10, 10]\n",
    "o = tntt.ones(N)\n",
    "x = tntt.randn(N, [1, 4, 4, 4, 1])\n",
    "y = tntt.TT(tn.reshape(tn.arange(N[0] * N[1] * N[2] * N[3], dtype=tn.float64), N))\n",
    "A = tntt.randn([(n, n) for n in N], [1, 2, 3, 4, 1])\n",
    "B = tntt.randn([(n, n) for n in N], [1, 2, 3, 4, 1])\n",
    "\n",
    "print(A)"
   ],
   "outputs": [
    {
     "name": "stdout",
     "output_type": "stream",
     "text": [
      "TT-matrix with sizes and ranks:\n",
      "M = [10, 10, 10, 10]\n",
      "N = [10, 10, 10, 10]\n",
      "R = [1, 2, 3, 4, 1]\n",
      "Device: cpu, dtype: torch.float64\n",
      "#entries 2400 compression 2.4e-05\n",
      "\n"
     ]
    }
   ],
   "execution_count": 3
  }
 ],
 "metadata": {
  "kernelspec": {
   "display_name": "Python 3",
   "language": "python",
   "name": "python3"
  },
  "language_info": {
   "codemirror_mode": {
    "name": "ipython",
    "version": 2
   },
   "file_extension": ".py",
   "mimetype": "text/x-python",
   "name": "python",
   "nbconvert_exporter": "python",
   "pygments_lexer": "ipython2",
   "version": "2.7.6"
  }
 },
 "nbformat": 4,
 "nbformat_minor": 5
}
