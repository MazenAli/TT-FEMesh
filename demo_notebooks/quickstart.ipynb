{
 "cells": [
  {
   "cell_type": "markdown",
   "metadata": {},
   "source": [
    "# Quickstart Notebook\n",
    "This notebook contains a quickstart guide to the **TTFEMesh** library.\n",
    "\n",
    "For detailed information about the meaning of the tensorized Jacobians, Dirichlet masks, and concatenation maps,\n",
    "we refer to the original paper [arXiv:1802.02839](https://arxiv.org/abs/1802.02839).\n",
    "\n",
    "## Installation\n",
    "\n",
    "```bash\n",
    "pip install ttfemesh\n",
    "```\n",
    "\n",
    "# Creating a domain\n",
    "We create a simple domain with two rectangles and an edge connecting them.\n",
    "We set the Dirichlet boundary for the left side and the right side."
   ]
  },
  {
   "cell_type": "code",
   "execution_count": 1,
   "metadata": {},
   "outputs": [
    {
     "data": {
      "image/png": "[encoded data removed]",
      "text/plain": [
       "<Figure size 640x480 with 1 Axes>"
      ]
     },
     "metadata": {},
     "output_type": "display_data"
    }
   ],
   "source": [
    "from ttfemesh.domain import RectangleFactory, CurveConnection2D, VertexConnection2D \n",
    "from ttfemesh.domain import DirichletBoundary2D, Domain2D\n",
    "\n",
    "lower_left = (0, 0)\n",
    "upper_right = (2, 1)\n",
    "rectangle1 = RectangleFactory.create(lower_left, upper_right)\n",
    "\n",
    "lower_left = (2, 0)\n",
    "upper_right = (3, 1)\n",
    "rectangle2 = RectangleFactory.create(lower_left, upper_right)\n",
    "\n",
    "domain_idxs = [0, 1]\n",
    "curve_idxs = [1, 3]\n",
    "edge = CurveConnection2D(domain_idxs, curve_idxs)\n",
    "\n",
    "bc = DirichletBoundary2D([(0, 3), (1, 1)])\n",
    "\n",
    "domain = Domain2D([rectangle1, rectangle2], [edge], bc)\n",
    "domain.plot()"
   ]
  },
  {
   "cell_type": "markdown",
   "metadata": {},
   "source": [
    "# Meshing a Domain\n",
    "Generating a mesh for a domain is straightforward.\n",
    "It requires the domain, a quadrature rule and a mesh size exponent.\n",
    "The mesh size exponent is used to control the size of the mesh, i.e.,\n",
    "the number of discretization points in each direction will be $2^{n}$,\n",
    "where $n$ is the mesh size exponent."
   ]
  },
  {
   "cell_type": "code",
   "execution_count": 2,
   "metadata": {},
   "outputs": [
    {
     "name": "stdout",
     "output_type": "stream",
     "text": [
      "DomainBilinearMesh2D(domain=Domain2D(2 subdomains, 1 connections), mesh_size_exponent=3, quadrature_rule=2D Gauss-Legendre Quadrature Rule (order=1), basis=TensorProductBasis(dim=2)::BilinearBasis)\n"
     ]
    }
   ],
   "source": [
    "from ttfemesh.quadrature import GaussLegendre2D\n",
    "from ttfemesh.mesh import DomainBilinearMesh2D\n",
    "\n",
    "order = 1\n",
    "qrule = GaussLegendre2D(order)\n",
    "mesh_size_exponent = 3\n",
    "\n",
    "mesh = DomainBilinearMesh2D(domain, qrule, mesh_size_exponent)\n",
    "print(mesh)"
   ]
  },
  {
   "cell_type": "markdown",
   "metadata": {},
   "source": [
    "# Retrieve Jacobians and Jacobians Determinants\n",
    "For each of the subdomains, you can retrieve the tensorized Jacobians like so."
   ]
  },
  {
   "cell_type": "code",
   "execution_count": 8,
   "metadata": {},
   "outputs": [
    {
     "name": "stdout",
     "output_type": "stream",
     "text": [
      "(1, 2, 2)\n",
      "[[[TT with sizes and ranks:\n",
      "   N = [4, 4, 4]\n",
      "   R = [1, 2, 2, 1]\n",
      "\n",
      "   Device: cpu, dtype: torch.float64\n",
      "   #entries 32 compression 0.5       TT with sizes and ranks:\n",
      "                                     N = [4, 4, 4]\n",
      "                                     R = [1, 2, 2, 1]\n",
      "\n",
      "                                     Device: cpu, dtype: torch.float64\n",
      "                                     #entries 32 compression 0.5      ]\n",
      "  [TT with sizes and ranks:\n",
      "   N = [4, 4, 4]\n",
      "   R = [1, 2, 2, 1]\n",
      "\n",
      "   Device: cpu, dtype: torch.float64\n",
      "   #entries 32 compression 0.5       TT with sizes and ranks:\n",
      "                                     N = [4, 4, 4]\n",
      "                                     R = [1, 2, 2, 1]\n",
      "\n",
      "                                     Device: cpu, dtype: torch.float64\n",
      "                                     #entries 32 compression 0.5      ]]]\n"
     ]
    }
   ],
   "source": [
    "subdmesh = mesh.get_subdomain_mesh(0)\n",
    "jac_tts = subdmesh.get_jacobian_tensor_trains()\n",
    "print(jac_tts.shape)\n",
    "print(jac_tts)"
   ]
  },
  {
   "cell_type": "code",
   "execution_count": 9,
   "metadata": {},
   "outputs": [
    {
     "name": "stdout",
     "output_type": "stream",
     "text": [
      "(1,)\n",
      "[TT with sizes and ranks:\n",
      " N = [4, 4, 4]\n",
      " R = [1, 2, 2, 1]\n",
      "\n",
      " Device: cpu, dtype: torch.float64\n",
      " #entries 32 compression 0.5      ]\n"
     ]
    }
   ],
   "source": [
    "jac_dets = subdmesh.get_jacobian_det_tensor_trains()\n",
    "print(jac_dets.shape)\n",
    "print(jac_dets)"
   ]
  },
  {
   "cell_type": "code",
   "execution_count": 10,
   "metadata": {},
   "outputs": [
    {
     "name": "stdout",
     "output_type": "stream",
     "text": [
      "(1,)\n",
      "[TT with sizes and ranks:\n",
      " N = [4, 4, 4]\n",
      " R = [1, 3, 4, 1]\n",
      "\n",
      " Device: cpu, dtype: torch.float64\n",
      " #entries 76 compression 1.1875   ]\n"
     ]
    }
   ],
   "source": [
    "jac_invdets = subdmesh.get_jacobian_invdet_tensor_trains()\n",
    "print(jac_invdets.shape)\n",
    "print(jac_invdets)"
   ]
  },
  {
   "cell_type": "markdown",
   "metadata": {},
   "source": [
    "# Retrieve Element to Global Index Map\n",
    "You can retrieve the tensorized element to global index map like so."
   ]
  },
  {
   "cell_type": "code",
   "execution_count": 11,
   "metadata": {},
   "outputs": [
    {
     "name": "stdout",
     "output_type": "stream",
     "text": [
      "(2, 2)\n",
      "[[TT-matrix with sizes and ranks:\n",
      "  M = [4, 4, 4]\n",
      "  N = [4, 4, 4]\n",
      "  R = [1, 4, 4, 1]\n",
      "  Device: cpu, dtype: torch.float64\n",
      "  #entries 384 compression 0.09375  TT-matrix with sizes and ranks:\n",
      "                                    M = [4, 4, 4]\n",
      "                                    N = [4, 4, 4]\n",
      "                                    R = [1, 4, 4, 1]\n",
      "                                    Device: cpu, dtype: torch.float64\n",
      "                                    #entries 384 compression 0.09375 ]\n",
      " [TT-matrix with sizes and ranks:\n",
      "  M = [4, 4, 4]\n",
      "  N = [4, 4, 4]\n",
      "  R = [1, 4, 4, 1]\n",
      "  Device: cpu, dtype: torch.float64\n",
      "  #entries 384 compression 0.09375  TT-matrix with sizes and ranks:\n",
      "                                    M = [4, 4, 4]\n",
      "                                    N = [4, 4, 4]\n",
      "                                    R = [1, 4, 4, 1]\n",
      "                                    Device: cpu, dtype: torch.float64\n",
      "                                    #entries 384 compression 0.09375 ]]\n"
     ]
    }
   ],
   "source": [
    "element2global_map = mesh.get_element2global_index_map()\n",
    "print(element2global_map.shape)\n",
    "print(element2global_map)"
   ]
  },
  {
   "cell_type": "markdown",
   "metadata": {},
   "source": [
    "# Retrieve Dirichlet Masks\n",
    "For each of the subdomains, you can retrieve the tensorized Dirichlet masks like so."
   ]
  },
  {
   "cell_type": "code",
   "execution_count": 12,
   "metadata": {},
   "outputs": [
    {
     "name": "stdout",
     "output_type": "stream",
     "text": [
      "{0: TT with sizes and ranks:\n",
      "N = [4, 4, 4]\n",
      "R = [1, 2, 2, 1]\n",
      "\n",
      "Device: cpu, dtype: torch.float64\n",
      "#entries 32 compression 0.5\n",
      ", 1: TT with sizes and ranks:\n",
      "N = [4, 4, 4]\n",
      "R = [1, 2, 2, 1]\n",
      "\n",
      "Device: cpu, dtype: torch.float64\n",
      "#entries 32 compression 0.5\n",
      "}\n"
     ]
    }
   ],
   "source": [
    "masks = mesh.get_dirichlet_masks()\n",
    "print(masks)"
   ]
  },
  {
   "cell_type": "markdown",
   "metadata": {},
   "source": [
    "# Retrieve Concatenation Maps\n",
    "You can retrieve the concatenation maps for all pairs of connected subdomains like so."
   ]
  },
  {
   "cell_type": "code",
   "execution_count": 13,
   "metadata": {},
   "outputs": [
    {
     "name": "stdout",
     "output_type": "stream",
     "text": [
      "{(0, 1): (TT-matrix with sizes and ranks:\n",
      "M = [4, 4, 4]\n",
      "N = [4, 4, 4]\n",
      "R = [1, 1, 1, 1]\n",
      "Device: cpu, dtype: torch.int64\n",
      "#entries 48 compression 0.01171875\n",
      ", TT-matrix with sizes and ranks:\n",
      "M = [4, 4, 4]\n",
      "N = [4, 4, 4]\n",
      "R = [1, 1, 1, 1]\n",
      "Device: cpu, dtype: torch.int64\n",
      "#entries 48 compression 0.01171875\n",
      ", TT-matrix with sizes and ranks:\n",
      "M = [4, 4, 4]\n",
      "N = [4, 4, 4]\n",
      "R = [1, 1, 1, 1]\n",
      "Device: cpu, dtype: torch.int64\n",
      "#entries 48 compression 0.01171875\n",
      ")}\n"
     ]
    }
   ],
   "source": [
    "concat_maps = mesh.get_concatenation_maps()\n",
    "print(concat_maps)"
   ]
  },
  {
   "cell_type": "markdown",
   "metadata": {},
   "source": [
    "# Curved Subdomains\n",
    "**TTFEMesh** supports curved subdomains."
   ]
  },
  {
   "cell_type": "code",
   "execution_count": 16,
   "metadata": {},
   "outputs": [
    {
     "data": {
      "image/png": "[encoded data removed]",
      "text/plain": [
       "<Figure size 640x480 with 1 Axes>"
      ]
     },
     "metadata": {},
     "output_type": "display_data"
    }
   ],
   "source": [
    "import numpy as np\n",
    "from ttfemesh.domain import CircularArc2D, Line2D\n",
    "from ttfemesh.domain import Subdomain2D\n",
    "\n",
    "arc0 = CircularArc2D((0, 0), 1, np.pi/2., 0.5*np.pi)\n",
    "line1 = Line2D((-1, 0), (1, -1))\n",
    "line2 = Line2D((1, -1), (2, 1))\n",
    "line3 = Line2D((2, 1), (0, 1))\n",
    "\n",
    "subdomain = Subdomain2D([arc0, line1, line2, line3])\n",
    "subdomain.plot()"
   ]
  },
  {
   "cell_type": "markdown",
   "metadata": {},
   "source": [
    "# Further Documentation\n",
    "\n",
    "For further documentation, please refer to the [API Reference](https://ttfemesh.readthedocs.io/en/latest/)."
   ]
  }
 ],
 "metadata": {
  "kernelspec": {
   "display_name": "Python 3 (ipykernel)",
   "language": "python",
   "name": "python3"
  }
 },
 "nbformat": 4,
 "nbformat_minor": 2
}
