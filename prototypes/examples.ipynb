{
 "cells": [
  {
   "cell_type": "code",
   "execution_count": 1,
   "metadata": {},
   "outputs": [],
   "source": [
    "from ttfemesh.domain import RectangleFactory\n",
    "from ttfemesh.quadrature import GaussLegendre2D\n",
    "from ttfemesh.mesh import SubdomainMesh2D"
   ]
  },
  {
   "cell_type": "code",
   "execution_count": 2,
   "metadata": {},
   "outputs": [
    {
     "data": {
      "image/png": "[encoded data removed]",
      "text/plain": [
       "<Figure size 640x480 with 1 Axes>"
      ]
     },
     "metadata": {},
     "output_type": "display_data"
    }
   ],
   "source": [
    "lower_left = (0, 0)\n",
    "upper_right = (2, 1)\n",
    "rectangle = RectangleFactory.create(lower_left, upper_right)\n",
    "quadrature_rule = GaussLegendre2D()\n",
    "mesh_size_exponent = 3\n",
    "mesh = SubdomainMesh2D(rectangle, quadrature_rule, mesh_size_exponent)\n",
    "\n",
    "mesh.plot()"
   ]
  },
  {
   "cell_type": "code",
   "execution_count": 3,
   "metadata": {},
   "outputs": [
    {
     "name": "stdout",
     "output_type": "stream",
     "text": [
      "Help on package ttfemesh:\n",
      "\n",
      "NAME\n",
      "    ttfemesh - TTFEMesh is a Python package for finite element methods using tensor train decompositions.\n",
      "\n",
      "DESCRIPTION\n",
      "    The package implements a framework for creating and manipulating finite element meshes in the tensor train format.\n",
      "    This provides the backbone for solving partial differential equations using tensor train decompositions.\n",
      "    The package is designed to be flexible and extensible, allowing users to create their own finite element meshes and build their own solvers.\n",
      "\n",
      "    The package is built on top of the `torchtt` package, which provides a framework for handling tensor train decompositions, but this might change in the future.\n",
      "    This package is currently in a prototype stage, and the API is subject to change.\n",
      "\n",
      "    See the documentation for more details.\n",
      "\n",
      "    Example usage:\n",
      "        >>> from ttfemesh.domain import RectangleFactory\n",
      "        >>> from ttfemesh.quadrature import GaussLegendre2D\n",
      "        >>> from ttfemesh.mesh import SubdomainMesh2D\n",
      "\n",
      "        >>> lower_left = (0, 0)\n",
      "        >>> upper_right = (2, 1)\n",
      "        >>> rectangle = RectangleFactory.create(lower_left, upper_right)\n",
      "        >>> quadrature_rule = GaussLegendre2D(order=1)\n",
      "        >>> mesh_size_exponent = 3\n",
      "        >>> mesh = SubdomainMesh2D(rectangle, quadrature_rule, mesh_size_exponent)\n",
      "\n",
      "        >>> mesh.plot()\n",
      "\n",
      "PACKAGE CONTENTS\n",
      "    basis (package)\n",
      "    domain (package)\n",
      "    mesh (package)\n",
      "    quadrature (package)\n",
      "    tt_tools (package)\n",
      "    types\n",
      "    utils (package)\n",
      "\n",
      "VERSION\n",
      "    0.1.0\n",
      "\n",
      "FILE\n",
      "    /app/ttfemesh/__init__.py\n",
      "\n",
      "\n"
     ]
    }
   ],
   "source": [
    "import ttfemesh\n",
    "help(ttfemesh)"
   ]
  }
 ],
 "metadata": {
  "kernelspec": {
   "display_name": "Python 3 (ipykernel)",
   "language": "python",
   "name": "python3"
  },
  "language_info": {
   "codemirror_mode": {
    "name": "ipython",
    "version": 3
   },
   "file_extension": ".py",
   "mimetype": "text/x-python",
   "name": "python",
   "nbconvert_exporter": "python",
   "pygments_lexer": "ipython3",
   "version": "3.12.8"
  }
 },
 "nbformat": 4,
 "nbformat_minor": 2
}
